{
  "nbformat": 4,
  "nbformat_minor": 0,
  "metadata": {
    "colab": {
      "name": "1. Listas enlazadas.ipynb",
      "provenance": [],
      "authorship_tag": "ABX9TyNRo+HAPovYNnzcsehfeYFO",
      "include_colab_link": true
    },
    "kernelspec": {
      "name": "python3",
      "display_name": "Python 3"
    },
    "language_info": {
      "name": "python"
    }
  },
  "cells": [
    {
      "cell_type": "markdown",
      "metadata": {
        "id": "view-in-github",
        "colab_type": "text"
      },
      "source": [
        "<a href=\"https://colab.research.google.com/github/Willy502/tareas-201602734/blob/main/1_Listas_enlazadas.ipynb\" target=\"_parent\"><img src=\"https://colab.research.google.com/assets/colab-badge.svg\" alt=\"Open In Colab\"/></a>"
      ]
    },
    {
      "cell_type": "markdown",
      "metadata": {
        "id": "ou0MJ87ESDUR"
      },
      "source": [
        "LISTAS ENLAZADAS"
      ]
    },
    {
      "cell_type": "markdown",
      "metadata": {
        "id": "2_gDC1QF7A4U"
      },
      "source": [
        "DEFINICION DE CLASE ESTUDIANTE"
      ]
    },
    {
      "cell_type": "code",
      "metadata": {
        "id": "lNCZ7qsbvhet"
      },
      "source": [
        "class estudiante:\n",
        "  def __init__(self, carne, nombre, edad, direccion, telefono, email, carrera, puesto):\n",
        "    self.carne = carne\n",
        "    self.nombre = nombre\n",
        "    self.edad = edad\n",
        "    self.direccion = direccion\n",
        "    self.telefono = telefono\n",
        "    self.email = email\n",
        "    self.carrera = carrera\n",
        "    self.puesto = puesto"
      ],
      "execution_count": null,
      "outputs": []
    },
    {
      "cell_type": "markdown",
      "metadata": {
        "id": "E3LxS8oi7Vfu"
      },
      "source": [
        "DEFINICION DE LA CLASE NODO"
      ]
    },
    {
      "cell_type": "code",
      "metadata": {
        "id": "ddDiHAvL7XdG"
      },
      "source": [
        "class nodo:\n",
        "  def __init__(self, estudiante=None, siguiente=None):\n",
        "    self.estudiante = estudiante\n",
        "    self.siguiente = siguiente"
      ],
      "execution_count": null,
      "outputs": []
    },
    {
      "cell_type": "markdown",
      "metadata": {
        "id": "fmICGhEk7gNM"
      },
      "source": [
        "DEFINICION DE LA CLASE LISTA ENLAZADA"
      ]
    },
    {
      "cell_type": "code",
      "metadata": {
        "id": "DwfuwZxN7iq4"
      },
      "source": [
        "class lista_enlazada:\n",
        "  def __init__(self):\n",
        "    self.primero = None\n",
        "\n",
        "  def insertar(self, estudiante):\n",
        "    if self.primero is None:\n",
        "      self.primero = nodo(estudiante=estudiante)\n",
        "      return\n",
        "    actual = self.primero\n",
        "    while actual.siguiente:\n",
        "      actual = actual.siguiente\n",
        "    actual.siguiente = nodo(estudiante=estudiante)\n",
        "\n",
        "  def recorrer(self):\n",
        "    actual = self.primero\n",
        "    while actual != None:\n",
        "      print(\"carne: \", actual.estudiante.carne, \" nombre: \", actual.estudiante.nombre, \" email: \", actual.estudiante.email, \" -> \")\n",
        "      actual = actual.siguiente\n",
        "\n",
        "  def eliminar(self, carne):\n",
        "    actual = self.primero\n",
        "    anterior = None\n",
        "\n",
        "    while actual and actual.estudiante.carne != carne:\n",
        "      anterior = actual\n",
        "      actual = actual.siguiente\n",
        "\n",
        "    if anterior is None:\n",
        "      self.primero = actual.siguiente\n",
        "      actual.siguiente = None\n",
        "    elif actual:\n",
        "      anterior.siguiente = actual.siguiente\n",
        "      actual.siguiente = None"
      ],
      "execution_count": null,
      "outputs": []
    },
    {
      "cell_type": "markdown",
      "metadata": {
        "id": "_O1GU6TUpY8D"
      },
      "source": [
        "CREACIÓN DE OBJETOS DE ESTUDIANTE"
      ]
    },
    {
      "cell_type": "code",
      "metadata": {
        "id": "t6IeMc0Mpbrq"
      },
      "source": [
        "e1 = estudiante(201602734, \"Alejandro Barrios\", 24, \"Ciudad\", 12345678, \"alejandro@correo.com\", \"Ingeniería en sistemas\", \"Programador Sr.\")\n",
        "e2 = estudiante(201602735, \"Wilfred Barrios\", 25, \"Ciudad\", 12345677, \"will@correo.com\", \"Ingeniería en sistemas\", \"Programador Sr.\")\n",
        "e3 = estudiante(201602736, \"Ale Barrios\", 20, \"Ciudad\", 12345673, \"ale@correo.com\", \"Ingeniería en sistemas\", \"Programador Jr.\")"
      ],
      "execution_count": null,
      "outputs": []
    },
    {
      "cell_type": "markdown",
      "metadata": {
        "id": "_JqOrFeGqGpI"
      },
      "source": [
        "INSERCIÓN"
      ]
    },
    {
      "cell_type": "code",
      "metadata": {
        "id": "NxrAZlMuqIQj"
      },
      "source": [
        "lista_e = lista_enlazada()\n",
        "lista_e.insertar(e1)\n",
        "lista_e.insertar(e2)\n",
        "lista_e.insertar(e3)"
      ],
      "execution_count": null,
      "outputs": []
    },
    {
      "cell_type": "markdown",
      "metadata": {
        "id": "p0ZUmrqyq1QZ"
      },
      "source": [
        "RECORRER LA LISTA"
      ]
    },
    {
      "cell_type": "code",
      "metadata": {
        "colab": {
          "base_uri": "https://localhost:8080/"
        },
        "id": "3J279DCuq2nc",
        "outputId": "6cacc6c8-8c21-463c-9e0a-9ef67a4bc500"
      },
      "source": [
        "lista_e.recorrer()"
      ],
      "execution_count": null,
      "outputs": [
        {
          "output_type": "stream",
          "text": [
            "carne:  201602734  nombre:  Alejandro Barrios  email:  alejandro@correo.com  -> \n",
            "carne:  201602735  nombre:  Wilfred Barrios  email:  will@correo.com  -> \n",
            "carne:  201602736  nombre:  Ale Barrios  email:  ale@correo.com  -> \n"
          ],
          "name": "stdout"
        }
      ]
    },
    {
      "cell_type": "code",
      "metadata": {
        "colab": {
          "base_uri": "https://localhost:8080/"
        },
        "id": "WcC_RubtbsH-",
        "outputId": "3bd44539-f278-462c-93a6-d8e8b92012cc"
      },
      "source": [
        "lista_e.eliminar(201602735)\n",
        "lista_e.recorrer()"
      ],
      "execution_count": null,
      "outputs": [
        {
          "output_type": "stream",
          "text": [
            "carne:  201602734  nombre:  Alejandro Barrios  email:  alejandro@correo.com  -> \n",
            "carne:  201602736  nombre:  Ale Barrios  email:  ale@correo.com  -> \n"
          ],
          "name": "stdout"
        }
      ]
    }
  ]
}