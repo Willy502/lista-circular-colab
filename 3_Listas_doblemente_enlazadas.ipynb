{
  "nbformat": 4,
  "nbformat_minor": 0,
  "metadata": {
    "colab": {
      "name": "3. Listas doblemente enlazadas.ipynb",
      "provenance": [],
      "authorship_tag": "ABX9TyPmp47RbUI5iwJRSD2phHhj",
      "include_colab_link": true
    },
    "kernelspec": {
      "name": "python3",
      "display_name": "Python 3"
    },
    "language_info": {
      "name": "python"
    }
  },
  "cells": [
    {
      "cell_type": "markdown",
      "metadata": {
        "id": "view-in-github",
        "colab_type": "text"
      },
      "source": [
        "<a href=\"https://colab.research.google.com/github/Willy502/tareas-201602734/blob/main/3_Listas_doblemente_enlazadas.ipynb\" target=\"_parent\"><img src=\"https://colab.research.google.com/assets/colab-badge.svg\" alt=\"Open In Colab\"/></a>"
      ]
    },
    {
      "cell_type": "markdown",
      "metadata": {
        "id": "ou0MJ87ESDUR"
      },
      "source": [
        "**LISTAS DOBLEMENTE ENLAZADAS**"
      ]
    },
    {
      "cell_type": "markdown",
      "metadata": {
        "id": "2_gDC1QF7A4U"
      },
      "source": [
        "DEFINICION DE CLASE ESTUDIANTE"
      ]
    },
    {
      "cell_type": "code",
      "metadata": {
        "id": "lNCZ7qsbvhet"
      },
      "source": [
        "class estudiante:\n",
        "  def __init__(self, carne, nombre, edad, direccion, telefono, email, carrera, puesto):\n",
        "    self.carne = carne\n",
        "    self.nombre = nombre\n",
        "    self.edad = edad\n",
        "    self.direccion = direccion\n",
        "    self.telefono = telefono\n",
        "    self.email = email\n",
        "    self.carrera = carrera\n",
        "    self.puesto = puesto"
      ],
      "execution_count": 1,
      "outputs": []
    },
    {
      "cell_type": "markdown",
      "metadata": {
        "id": "E3LxS8oi7Vfu"
      },
      "source": [
        "DEFINICION DE LA CLASE NODO"
      ]
    },
    {
      "cell_type": "code",
      "metadata": {
        "id": "ddDiHAvL7XdG"
      },
      "source": [
        "class nodo:\n",
        "  def __init__(self, estudiante=None, siguiente=None, anterior=None):\n",
        "    self.estudiante = estudiante\n",
        "    self.siguiente = siguiente\n",
        "    self.anterior = anterior"
      ],
      "execution_count": 2,
      "outputs": []
    },
    {
      "cell_type": "markdown",
      "metadata": {
        "id": "fmICGhEk7gNM"
      },
      "source": [
        "DEFINICION DE LA CLASE LISTA DOBLEMENTE ENLAZADA"
      ]
    },
    {
      "cell_type": "code",
      "metadata": {
        "id": "DwfuwZxN7iq4"
      },
      "source": [
        "class lista_doblemente_enlazada:\n",
        "  def __init__(self):\n",
        "    self.primero = None\n",
        "\n",
        "  def insertar(self, estudiante):\n",
        "    if self.primero is None:\n",
        "      self.primero = nodo(estudiante=estudiante)\n",
        "    else:\n",
        "      actual = nodo(estudiante=estudiante, siguiente=self.primero)\n",
        "      self.primero.anterior = actual\n",
        "      self.primero = actual\n",
        "\n",
        "  def recorrer(self):\n",
        "    if self.primero is None:\n",
        "      return\n",
        "    actual = self.primero\n",
        "    print(\"carne:\", actual.estudiante.carne, \"nombre:\", actual.estudiante.nombre, \"email:\", actual.estudiante.email, \"->\")\n",
        "    while actual.siguiente:\n",
        "      actual = actual.siguiente\n",
        "      print(\"carne: \", actual.estudiante.carne, \" nombre: \", actual.estudiante.nombre, \" email: \", actual.estudiante.email, \" -> \")\n",
        "\n",
        "  def eliminar(self, carne):\n",
        "    actual = self.primero\n",
        "    while actual:\n",
        "      if actual.estudiante.carne == carne:\n",
        "        if actual.anterior:\n",
        "          if actual.siguiente:\n",
        "            actual.anterior.siguiente = actual.siguiente\n",
        "            actual.siguiente.anterior = actual.anterior\n",
        "          else:\n",
        "            actual.anterior.siguiente = None\n",
        "            actual.anterior = None\n",
        "        else:\n",
        "          if actual.siguiente:\n",
        "            self.primero = actual.siguiente\n",
        "            actual.siguiente.anterior = None\n",
        "          else:\n",
        "            self.primero = None\n",
        "        return True\n",
        "      else:\n",
        "        actual = actual.siguiente\n",
        "    return False\n",
        "\n",
        "  def buscar(self, carne):\n",
        "    actual = self.primero\n",
        "    founded = False\n",
        "    while actual:\n",
        "      if actual.estudiante.carne == carne:\n",
        "        founded = True\n",
        "        break\n",
        "      actual = actual.siguiente\n",
        "    \n",
        "    if founded != True:\n",
        "      print(\"No se ha encontrado el estudiante\")\n",
        "    else:\n",
        "      print(\"ESTUDIANTE ENCONTRADO: carne: \", actual.estudiante.carne, \" nombre: \", actual.estudiante.nombre, \" email: \", actual.estudiante.email)"
      ],
      "execution_count": 21,
      "outputs": []
    },
    {
      "cell_type": "markdown",
      "metadata": {
        "id": "_O1GU6TUpY8D"
      },
      "source": [
        "CREACIÓN DE OBJETOS DE ESTUDIANTE"
      ]
    },
    {
      "cell_type": "code",
      "metadata": {
        "id": "t6IeMc0Mpbrq"
      },
      "source": [
        "e1 = estudiante(201602734, \"Alejandro Barrios\", 24, \"Ciudad\", 12345678, \"alejandro@correo.com\", \"Ingeniería en sistemas\", \"Programador Sr.\")\n",
        "e2 = estudiante(201602735, \"Wilfred Barrios\", 25, \"Ciudad\", 12345677, \"will@correo.com\", \"Ingeniería en sistemas\", \"Programador Sr.\")\n",
        "e3 = estudiante(201602736, \"Ale Barrios\", 20, \"Ciudad\", 12345673, \"ale@correo.com\", \"Ingeniería en sistemas\", \"Programador Jr.\")"
      ],
      "execution_count": 22,
      "outputs": []
    },
    {
      "cell_type": "markdown",
      "metadata": {
        "id": "_JqOrFeGqGpI"
      },
      "source": [
        "INSERCIÓN"
      ]
    },
    {
      "cell_type": "code",
      "metadata": {
        "id": "NxrAZlMuqIQj"
      },
      "source": [
        "lista_e = lista_doblemente_enlazada()\n",
        "lista_e.insertar(e1)\n",
        "lista_e.insertar(e2)\n",
        "lista_e.insertar(e3)"
      ],
      "execution_count": 23,
      "outputs": []
    },
    {
      "cell_type": "markdown",
      "metadata": {
        "id": "p0ZUmrqyq1QZ"
      },
      "source": [
        "RECORRER LA LISTA"
      ]
    },
    {
      "cell_type": "code",
      "metadata": {
        "colab": {
          "base_uri": "https://localhost:8080/"
        },
        "id": "3J279DCuq2nc",
        "outputId": "e7ac4124-42bb-4f68-95ee-67c9feebb435"
      },
      "source": [
        "lista_e.recorrer()"
      ],
      "execution_count": 24,
      "outputs": [
        {
          "output_type": "stream",
          "text": [
            "carne: 201602736 nombre: Ale Barrios email: ale@correo.com ->\n",
            "carne:  201602735  nombre:  Wilfred Barrios  email:  will@correo.com  -> \n",
            "carne:  201602734  nombre:  Alejandro Barrios  email:  alejandro@correo.com  -> \n"
          ],
          "name": "stdout"
        }
      ]
    },
    {
      "cell_type": "code",
      "metadata": {
        "colab": {
          "base_uri": "https://localhost:8080/"
        },
        "id": "WcC_RubtbsH-",
        "outputId": "baff8a03-2bf5-4123-b12a-ca926e9a9da5"
      },
      "source": [
        "lista_e.eliminar(201602735)\n",
        "lista_e.recorrer()\n"
      ],
      "execution_count": 26,
      "outputs": [
        {
          "output_type": "stream",
          "text": [
            "carne: 201602736 nombre: Ale Barrios email: ale@correo.com ->\n",
            "carne:  201602734  nombre:  Alejandro Barrios  email:  alejandro@correo.com  -> \n"
          ],
          "name": "stdout"
        }
      ]
    },
    {
      "cell_type": "markdown",
      "metadata": {
        "id": "P44Q_5H-yY56"
      },
      "source": [
        "BUSCAR AL ESTUDIANTE"
      ]
    },
    {
      "cell_type": "code",
      "metadata": {
        "colab": {
          "base_uri": "https://localhost:8080/"
        },
        "id": "yekKzfQyyYcC",
        "outputId": "5939020e-628d-450a-86f0-cb0f3ddffe68"
      },
      "source": [
        "lista_e.buscar(201602734)\n",
        "lista_e.buscar(201602735)"
      ],
      "execution_count": 27,
      "outputs": [
        {
          "output_type": "stream",
          "text": [
            "ESTUDIANTE ENCONTRADO: carne:  201602734  nombre:  Alejandro Barrios  email:  alejandro@correo.com\n",
            "No se ha encontrado el estudiante\n"
          ],
          "name": "stdout"
        }
      ]
    }
  ]
}